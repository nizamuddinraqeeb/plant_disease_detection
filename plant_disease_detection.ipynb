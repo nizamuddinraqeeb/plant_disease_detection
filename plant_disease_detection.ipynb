{
 "cells": [
  {
   "cell_type": "code",
   "execution_count": 1,
   "metadata": {
    "id": "BMEiPEQ8Pe1b"
   },
   "outputs": [],
   "source": [
    "import numpy as np\n",
    "import pandas as pd\n",
    "import matplotlib.pyplot as plt # Corrected import as per common usage\n",
    "import os\n",
    "import tensorflow\n",
    "from tensorflow.keras.preprocessing.image import ImageDataGenerator, load_img, img_to_array\n",
    "from keras.applications.vgg19 import VGG19, preprocess_input, decode_predictions"
   ]
  },
  {
   "cell_type": "code",
   "execution_count": 2,
   "metadata": {
    "id": "1cL8LJbLQFgv"
   },
   "outputs": [],
   "source": [
    "train_datagen = ImageDataGenerator(preprocessing_function=preprocess_input, zoom_range=0.5, shear_range=0.3, horizontal_flip=True)\n",
    "val_datagen = ImageDataGenerator(preprocessing_function=preprocess_input)\n"
   ]
  },
  {
   "cell_type": "code",
   "execution_count": 3,
   "metadata": {
    "colab": {
     "base_uri": "https://localhost:8080/"
    },
    "executionInfo": {
     "elapsed": 6994,
     "status": "ok",
     "timestamp": 1758647450716,
     "user": {
      "displayName": "Nizam Ud Din",
      "userId": "04775010721420996747"
     },
     "user_tz": -300
    },
    "id": "13TUHO8rRwok",
    "outputId": "6fff0379-30a2-4ec7-ea48-b21163960329"
   },
   "outputs": [
    {
     "name": "stdout",
     "output_type": "stream",
     "text": [
      "Found 69814 images belonging to 38 classes.\n",
      "Found 17462 images belonging to 38 classes.\n"
     ]
    }
   ],
   "source": [
    "train = train_datagen.flow_from_directory(directory='New Plant Diseases Dataset(Augmented)/New Plant Diseases Dataset(Augmented)/train', target_size=(256,256), batch_size=32, class_mode='categorical')\n",
    "\n",
    "val = val_datagen.flow_from_directory(directory='New Plant Diseases Dataset(Augmented)/New Plant Diseases Dataset(Augmented)/valid', target_size=(256,256), batch_size=32, class_mode='categorical')"
   ]
  },
  {
   "cell_type": "code",
   "execution_count": 4,
   "metadata": {
    "id": "xPO7y9FOUBQg"
   },
   "outputs": [],
   "source": [
    "t_img, label = next(train)"
   ]
  },
  {
   "cell_type": "code",
   "execution_count": 5,
   "metadata": {
    "id": "JbUbhS0ETGlo"
   },
   "outputs": [],
   "source": [
    "def plotImage(img_arr, label):\n",
    "  for im, l in zip(img_arr, label):\n",
    "    plt.figure(figsize=(5,5))\n",
    "    plt.show()"
   ]
  },
  {
   "cell_type": "code",
   "execution_count": 6,
   "metadata": {
    "colab": {
     "base_uri": "https://localhost:8080/",
     "height": 107
    },
    "executionInfo": {
     "elapsed": 40,
     "status": "ok",
     "timestamp": 1758645174883,
     "user": {
      "displayName": "Nizam Ud Din",
      "userId": "04775010721420996747"
     },
     "user_tz": -300
    },
    "id": "Kchssr-yUNfh",
    "outputId": "87179c40-f4a4-4a49-b2f6-cf4adb299968"
   },
   "outputs": [
    {
     "data": {
      "text/plain": [
       "<Figure size 500x500 with 0 Axes>"
      ]
     },
     "metadata": {},
     "output_type": "display_data"
    },
    {
     "data": {
      "text/plain": [
       "<Figure size 500x500 with 0 Axes>"
      ]
     },
     "metadata": {},
     "output_type": "display_data"
    },
    {
     "data": {
      "text/plain": [
       "<Figure size 500x500 with 0 Axes>"
      ]
     },
     "metadata": {},
     "output_type": "display_data"
    },
    {
     "data": {
      "text/plain": [
       "<Figure size 500x500 with 0 Axes>"
      ]
     },
     "metadata": {},
     "output_type": "display_data"
    },
    {
     "data": {
      "text/plain": [
       "<Figure size 500x500 with 0 Axes>"
      ]
     },
     "metadata": {},
     "output_type": "display_data"
    }
   ],
   "source": [
    "plotImage(t_img[:5], label[:5])"
   ]
  },
  {
   "cell_type": "code",
   "execution_count": 7,
   "metadata": {
    "id": "UQf7uNaOVHHK"
   },
   "outputs": [],
   "source": [
    "from keras.layers import Dense, Flatten\n",
    "from keras.models import Model\n",
    "from keras.applications.vgg19 import VGG19\n",
    "import keras"
   ]
  },
  {
   "cell_type": "code",
   "execution_count": 8,
   "metadata": {
    "colab": {
     "base_uri": "https://localhost:8080/"
    },
    "executionInfo": {
     "elapsed": 8751,
     "status": "ok",
     "timestamp": 1758645190504,
     "user": {
      "displayName": "Nizam Ud Din",
      "userId": "04775010721420996747"
     },
     "user_tz": -300
    },
    "id": "-P7jdV_zVT8Y",
    "outputId": "69902ac5-72ae-4132-92bf-02340b97cee4"
   },
   "outputs": [
    {
     "name": "stdout",
     "output_type": "stream",
     "text": [
      "Downloading data from https://storage.googleapis.com/tensorflow/keras-applications/vgg19/vgg19_weights_tf_dim_ordering_tf_kernels_notop.h5\n",
      "\u001b[1m80134624/80134624\u001b[0m \u001b[32m━━━━━━━━━━━━━━━━━━━━\u001b[0m\u001b[37m\u001b[0m \u001b[1m253s\u001b[0m 3us/step\n"
     ]
    }
   ],
   "source": [
    "base_model = VGG19(input_shape=(256,256,3), include_top=False)"
   ]
  },
  {
   "cell_type": "markdown",
   "metadata": {
    "id": "fyImxFDgPeIk"
   },
   "source": []
  },
  {
   "cell_type": "code",
   "execution_count": 9,
   "metadata": {
    "id": "hcuKWVAHVhAR"
   },
   "outputs": [],
   "source": [
    "for layer in base_model.layers:\n",
    "  layer.trainable = False\n"
   ]
  },
  {
   "cell_type": "code",
   "execution_count": 10,
   "metadata": {
    "id": "ta51Nk86VtZT"
   },
   "outputs": [],
   "source": [
    "x = Flatten()(base_model.output)\n",
    "\n",
    "x = Dense(units=38, activation='softmax')(x)\n",
    "\n",
    "model = Model(base_model.input, x)"
   ]
  },
  {
   "cell_type": "code",
   "execution_count": 11,
   "metadata": {
    "id": "wEGJgmSRZ8IE"
   },
   "outputs": [],
   "source": [
    "model.compile(optimizer='adam', loss=keras.losses.categorical_crossentropy, metrics=['accuracy'])"
   ]
  },
  {
   "cell_type": "markdown",
   "metadata": {
    "id": "HgK0L6yfYk7b"
   },
   "source": [
    "Early stopping and Model check point"
   ]
  },
  {
   "cell_type": "code",
   "execution_count": 12,
   "metadata": {
    "executionInfo": {
     "elapsed": 286,
     "status": "ok",
     "timestamp": 1758647617405,
     "user": {
      "displayName": "Nizam Ud Din",
      "userId": "04775010721420996747"
     },
     "user_tz": -300
    },
    "id": "YFHZpRC0Yq7s"
   },
   "outputs": [],
   "source": [
    "from keras.callbacks import EarlyStopping, ModelCheckpoint\n",
    "es  = EarlyStopping(monitor='val_accuracy', min_delta=0.01, patience=3, verbose=1)\n",
    "mc = ModelCheckpoint(filepath=\"best_model.h5\", monitor='val_accuracy',  verbose=1, save_best_only=True)\n",
    "\n",
    "cb = [es, mc]"
   ]
  },
  {
   "cell_type": "code",
   "execution_count": 14,
   "metadata": {
    "colab": {
     "base_uri": "https://localhost:8080/"
    },
    "executionInfo": {
     "elapsed": 227230,
     "status": "ok",
     "timestamp": 1758645432353,
     "user": {
      "displayName": "Nizam Ud Din",
      "userId": "04775010721420996747"
     },
     "user_tz": -300
    },
    "id": "BJkgsKafaXvZ",
    "outputId": "a0035f98-625a-49d4-f051-cc5332d6f27d"
   },
   "outputs": [
    {
     "name": "stdout",
     "output_type": "stream",
     "text": [
      "Epoch 1/50\n",
      "\u001b[1m16/16\u001b[0m \u001b[32m━━━━━━━━━━━━━━━━━━━━\u001b[0m\u001b[37m\u001b[0m \u001b[1m0s\u001b[0m 10s/step - accuracy: 0.4170 - loss: 15.5494\n",
      "Epoch 1: val_accuracy improved from 0.37695 to 0.46094, saving model to best_model.h5\n"
     ]
    },
    {
     "name": "stderr",
     "output_type": "stream",
     "text": [
      "WARNING:absl:You are saving your model as an HDF5 file via `model.save()` or `keras.saving.save_model(model)`. This file format is considered legacy. We recommend using instead the native Keras format, e.g. `model.save('my_model.keras')` or `keras.saving.save_model(model, 'my_model.keras')`. \n"
     ]
    },
    {
     "name": "stdout",
     "output_type": "stream",
     "text": [
      "\u001b[1m16/16\u001b[0m \u001b[32m━━━━━━━━━━━━━━━━━━━━\u001b[0m\u001b[37m\u001b[0m \u001b[1m317s\u001b[0m 20s/step - accuracy: 0.4160 - loss: 15.5833 - val_accuracy: 0.4609 - val_loss: 18.0458\n",
      "Epoch 2/50\n",
      "\u001b[1m16/16\u001b[0m \u001b[32m━━━━━━━━━━━━━━━━━━━━\u001b[0m\u001b[37m\u001b[0m \u001b[1m0s\u001b[0m 10s/step - accuracy: 0.4709 - loss: 14.9910\n",
      "Epoch 2: val_accuracy improved from 0.46094 to 0.67773, saving model to best_model.h5\n"
     ]
    },
    {
     "name": "stderr",
     "output_type": "stream",
     "text": [
      "WARNING:absl:You are saving your model as an HDF5 file via `model.save()` or `keras.saving.save_model(model)`. This file format is considered legacy. We recommend using instead the native Keras format, e.g. `model.save('my_model.keras')` or `keras.saving.save_model(model, 'my_model.keras')`. \n"
     ]
    },
    {
     "name": "stdout",
     "output_type": "stream",
     "text": [
      "\u001b[1m16/16\u001b[0m \u001b[32m━━━━━━━━━━━━━━━━━━━━\u001b[0m\u001b[37m\u001b[0m \u001b[1m307s\u001b[0m 20s/step - accuracy: 0.5332 - loss: 13.3025 - val_accuracy: 0.6777 - val_loss: 6.7940\n",
      "Epoch 3/50\n",
      "\u001b[1m16/16\u001b[0m \u001b[32m━━━━━━━━━━━━━━━━━━━━\u001b[0m\u001b[37m\u001b[0m \u001b[1m0s\u001b[0m 10s/step - accuracy: 0.5774 - loss: 12.1735\n",
      "Epoch 3: val_accuracy improved from 0.67773 to 0.70703, saving model to best_model.h5\n"
     ]
    },
    {
     "name": "stderr",
     "output_type": "stream",
     "text": [
      "WARNING:absl:You are saving your model as an HDF5 file via `model.save()` or `keras.saving.save_model(model)`. This file format is considered legacy. We recommend using instead the native Keras format, e.g. `model.save('my_model.keras')` or `keras.saving.save_model(model, 'my_model.keras')`. \n"
     ]
    },
    {
     "name": "stdout",
     "output_type": "stream",
     "text": [
      "\u001b[1m16/16\u001b[0m \u001b[32m━━━━━━━━━━━━━━━━━━━━\u001b[0m\u001b[37m\u001b[0m \u001b[1m310s\u001b[0m 20s/step - accuracy: 0.5723 - loss: 11.8657 - val_accuracy: 0.7070 - val_loss: 6.9340\n",
      "Epoch 4/50\n",
      "\u001b[1m16/16\u001b[0m \u001b[32m━━━━━━━━━━━━━━━━━━━━\u001b[0m\u001b[37m\u001b[0m \u001b[1m0s\u001b[0m 10s/step - accuracy: 0.5928 - loss: 10.1817\n",
      "Epoch 4: val_accuracy improved from 0.70703 to 0.72070, saving model to best_model.h5\n"
     ]
    },
    {
     "name": "stderr",
     "output_type": "stream",
     "text": [
      "WARNING:absl:You are saving your model as an HDF5 file via `model.save()` or `keras.saving.save_model(model)`. This file format is considered legacy. We recommend using instead the native Keras format, e.g. `model.save('my_model.keras')` or `keras.saving.save_model(model, 'my_model.keras')`. \n"
     ]
    },
    {
     "name": "stdout",
     "output_type": "stream",
     "text": [
      "\u001b[1m16/16\u001b[0m \u001b[32m━━━━━━━━━━━━━━━━━━━━\u001b[0m\u001b[37m\u001b[0m \u001b[1m313s\u001b[0m 20s/step - accuracy: 0.6191 - loss: 10.1750 - val_accuracy: 0.7207 - val_loss: 7.0447\n",
      "Epoch 5/50\n",
      "\u001b[1m16/16\u001b[0m \u001b[32m━━━━━━━━━━━━━━━━━━━━\u001b[0m\u001b[37m\u001b[0m \u001b[1m0s\u001b[0m 10s/step - accuracy: 0.6161 - loss: 11.2112 \n",
      "Epoch 5: val_accuracy improved from 0.72070 to 0.75391, saving model to best_model.h5\n"
     ]
    },
    {
     "name": "stderr",
     "output_type": "stream",
     "text": [
      "WARNING:absl:You are saving your model as an HDF5 file via `model.save()` or `keras.saving.save_model(model)`. This file format is considered legacy. We recommend using instead the native Keras format, e.g. `model.save('my_model.keras')` or `keras.saving.save_model(model, 'my_model.keras')`. \n"
     ]
    },
    {
     "name": "stdout",
     "output_type": "stream",
     "text": [
      "\u001b[1m16/16\u001b[0m \u001b[32m━━━━━━━━━━━━━━━━━━━━\u001b[0m\u001b[37m\u001b[0m \u001b[1m320s\u001b[0m 21s/step - accuracy: 0.6465 - loss: 10.1041 - val_accuracy: 0.7539 - val_loss: 7.3462\n",
      "Epoch 6/50\n",
      "\u001b[1m16/16\u001b[0m \u001b[32m━━━━━━━━━━━━━━━━━━━━\u001b[0m\u001b[37m\u001b[0m \u001b[1m0s\u001b[0m 10s/step - accuracy: 0.6804 - loss: 9.0785\n",
      "Epoch 6: val_accuracy did not improve from 0.75391\n",
      "\u001b[1m16/16\u001b[0m \u001b[32m━━━━━━━━━━━━━━━━━━━━\u001b[0m\u001b[37m\u001b[0m \u001b[1m311s\u001b[0m 20s/step - accuracy: 0.6582 - loss: 9.4885 - val_accuracy: 0.7227 - val_loss: 7.7399\n",
      "Epoch 7/50\n",
      "\u001b[1m16/16\u001b[0m \u001b[32m━━━━━━━━━━━━━━━━━━━━\u001b[0m\u001b[37m\u001b[0m \u001b[1m0s\u001b[0m 10s/step - accuracy: 0.6858 - loss: 8.5528\n",
      "Epoch 7: val_accuracy improved from 0.75391 to 0.76758, saving model to best_model.h5\n"
     ]
    },
    {
     "name": "stderr",
     "output_type": "stream",
     "text": [
      "WARNING:absl:You are saving your model as an HDF5 file via `model.save()` or `keras.saving.save_model(model)`. This file format is considered legacy. We recommend using instead the native Keras format, e.g. `model.save('my_model.keras')` or `keras.saving.save_model(model, 'my_model.keras')`. \n"
     ]
    },
    {
     "name": "stdout",
     "output_type": "stream",
     "text": [
      "\u001b[1m16/16\u001b[0m \u001b[32m━━━━━━━━━━━━━━━━━━━━\u001b[0m\u001b[37m\u001b[0m \u001b[1m317s\u001b[0m 20s/step - accuracy: 0.6895 - loss: 8.2074 - val_accuracy: 0.7676 - val_loss: 7.0006\n",
      "Epoch 8/50\n",
      "\u001b[1m16/16\u001b[0m \u001b[32m━━━━━━━━━━━━━━━━━━━━\u001b[0m\u001b[37m\u001b[0m \u001b[1m0s\u001b[0m 10s/step - accuracy: 0.7012 - loss: 8.2431\n",
      "Epoch 8: val_accuracy improved from 0.76758 to 0.78711, saving model to best_model.h5\n"
     ]
    },
    {
     "name": "stderr",
     "output_type": "stream",
     "text": [
      "WARNING:absl:You are saving your model as an HDF5 file via `model.save()` or `keras.saving.save_model(model)`. This file format is considered legacy. We recommend using instead the native Keras format, e.g. `model.save('my_model.keras')` or `keras.saving.save_model(model, 'my_model.keras')`. \n"
     ]
    },
    {
     "name": "stdout",
     "output_type": "stream",
     "text": [
      "\u001b[1m16/16\u001b[0m \u001b[32m━━━━━━━━━━━━━━━━━━━━\u001b[0m\u001b[37m\u001b[0m \u001b[1m308s\u001b[0m 20s/step - accuracy: 0.7051 - loss: 8.5075 - val_accuracy: 0.7871 - val_loss: 7.3112\n",
      "Epoch 9/50\n",
      "\u001b[1m16/16\u001b[0m \u001b[32m━━━━━━━━━━━━━━━━━━━━\u001b[0m\u001b[37m\u001b[0m \u001b[1m0s\u001b[0m 10s/step - accuracy: 0.7046 - loss: 7.5969\n",
      "Epoch 9: val_accuracy did not improve from 0.78711\n",
      "\u001b[1m16/16\u001b[0m \u001b[32m━━━━━━━━━━━━━━━━━━━━\u001b[0m\u001b[37m\u001b[0m \u001b[1m318s\u001b[0m 21s/step - accuracy: 0.7148 - loss: 7.4816 - val_accuracy: 0.7676 - val_loss: 6.2366\n",
      "Epoch 10/50\n",
      "\u001b[1m16/16\u001b[0m \u001b[32m━━━━━━━━━━━━━━━━━━━━\u001b[0m\u001b[37m\u001b[0m \u001b[1m0s\u001b[0m 10s/step - accuracy: 0.7117 - loss: 7.0444\n",
      "Epoch 10: val_accuracy did not improve from 0.78711\n",
      "\u001b[1m16/16\u001b[0m \u001b[32m━━━━━━━━━━━━━━━━━━━━\u001b[0m\u001b[37m\u001b[0m \u001b[1m304s\u001b[0m 20s/step - accuracy: 0.6992 - loss: 8.3861 - val_accuracy: 0.7734 - val_loss: 7.7000\n",
      "Epoch 11/50\n",
      "\u001b[1m16/16\u001b[0m \u001b[32m━━━━━━━━━━━━━━━━━━━━\u001b[0m\u001b[37m\u001b[0m \u001b[1m0s\u001b[0m 10s/step - accuracy: 0.7250 - loss: 8.6633\n",
      "Epoch 11: val_accuracy did not improve from 0.78711\n",
      "\u001b[1m16/16\u001b[0m \u001b[32m━━━━━━━━━━━━━━━━━━━━\u001b[0m\u001b[37m\u001b[0m \u001b[1m304s\u001b[0m 20s/step - accuracy: 0.7129 - loss: 9.8623 - val_accuracy: 0.7578 - val_loss: 8.3135\n",
      "Epoch 11: early stopping\n"
     ]
    }
   ],
   "source": [
    "model.compile(optimizer='adam', loss=keras.losses.categorical_crossentropy, metrics=['accuracy']) # Re-compile the model\n",
    "his = model.fit(train, steps_per_epoch=16, epochs=50, verbose=1, callbacks=cb, validation_data=val, validation_steps=16)"
   ]
  },
  {
   "cell_type": "code",
   "execution_count": 15,
   "metadata": {
    "colab": {
     "base_uri": "https://localhost:8080/"
    },
    "executionInfo": {
     "elapsed": 477,
     "status": "ok",
     "timestamp": 1758645447967,
     "user": {
      "displayName": "Nizam Ud Din",
      "userId": "04775010721420996747"
     },
     "user_tz": -300
    },
    "id": "Vy4zClMnd4ev",
    "outputId": "a4e80095-befa-408d-a57c-8d3a9147aecc"
   },
   "outputs": [
    {
     "data": {
      "text/plain": [
       "dict_keys(['accuracy', 'loss', 'val_accuracy', 'val_loss'])"
      ]
     },
     "execution_count": 15,
     "metadata": {},
     "output_type": "execute_result"
    }
   ],
   "source": [
    "h = his.history\n",
    "h.keys()"
   ]
  },
  {
   "cell_type": "code",
   "execution_count": 16,
   "metadata": {
    "colab": {
     "base_uri": "https://localhost:8080/",
     "height": 452
    },
    "executionInfo": {
     "elapsed": 323,
     "status": "ok",
     "timestamp": 1758645452215,
     "user": {
      "displayName": "Nizam Ud Din",
      "userId": "04775010721420996747"
     },
     "user_tz": -300
    },
    "id": "_T6m5YqneHQ6",
    "outputId": "6f602039-ea9d-4e57-fee9-388afb3cddee"
   },
   "outputs": [
    {
     "data": {
      "image/png": "[encoded data removed]",
      "text/plain": [
       "<Figure size 640x480 with 1 Axes>"
      ]
     },
     "metadata": {},
     "output_type": "display_data"
    }
   ],
   "source": [
    "plt.plot(h['accuracy'])\n",
    "plt.plot(h['val_accuracy'], c = \"red\")\n",
    "plt.title(\"acc vs v-acc\")\n",
    "plt.show()"
   ]
  },
  {
   "cell_type": "code",
   "execution_count": 17,
   "metadata": {
    "colab": {
     "base_uri": "https://localhost:8080/",
     "height": 452
    },
    "executionInfo": {
     "elapsed": 549,
     "status": "ok",
     "timestamp": 1758645458881,
     "user": {
      "displayName": "Nizam Ud Din",
      "userId": "04775010721420996747"
     },
     "user_tz": -300
    },
    "id": "tkg0pNQFeW2u",
    "outputId": "1236d036-10b1-4491-bde5-b1df71c5bbd2"
   },
   "outputs": [
    {
     "data": {
      "image/png": "[encoded data removed]",
      "text/plain": [
       "<Figure size 640x480 with 1 Axes>"
      ]
     },
     "metadata": {},
     "output_type": "display_data"
    }
   ],
   "source": [
    "plt.plot(h['loss'])\n",
    "plt.plot(h['val_loss'], c = \"red\")\n",
    "plt.title(\"loss vs v-loss\")\n",
    "plt.show()"
   ]
  },
  {
   "cell_type": "code",
   "execution_count": 18,
   "metadata": {
    "colab": {
     "base_uri": "https://localhost:8080/",
     "height": 459
    },
    "executionInfo": {
     "elapsed": 203,
     "status": "error",
     "timestamp": 1758647634806,
     "user": {
      "displayName": "Nizam Ud Din",
      "userId": "04775010721420996747"
     },
     "user_tz": -300
    },
    "id": "VsFv4F39efwq",
    "outputId": "a28a036f-0161-467e-b334-db9a9edc1ca9"
   },
   "outputs": [
    {
     "name": "stderr",
     "output_type": "stream",
     "text": [
      "WARNING:absl:Compiled the loaded model, but the compiled metrics have yet to be built. `model.compile_metrics` will be empty until you train or evaluate the model.\n"
     ]
    }
   ],
   "source": [
    "#load best model\n",
    "from keras.models import load_model\n",
    "model = load_model(\"best_model.h5\")"
   ]
  },
  {
   "cell_type": "code",
   "execution_count": null,
   "metadata": {},
   "outputs": [],
   "source": [
    "# Evaluate the model\n",
    "acc = model.evaluate(val)[1]\n",
    "print(f\"The accuracy of the model is = {acc*100} %\")"
   ]
  },
  {
   "cell_type": "code",
   "execution_count": null,
   "metadata": {
    "id": "HE48GF6DgPxP"
   },
   "outputs": [],
   "source": [
    "def prediction(path):\n",
    "  img = load_img(path, target_size=(256,256))\n",
    "  i = img_to_array(img)\n",
    "  im = preprocess_input(i)\n",
    "  img = np.expand_dims(im, axis=0)\n",
    "  class_indices = train.class_indices\n",
    "  ref = dict((v, k) for k, v in class_indices.items())\n",
    "  pred = np.argmax(model.predict(img))\n",
    "  print(f\"The image belongs to {ref[pred]}\")"
   ]
  },
  {
   "cell_type": "code",
   "execution_count": null,
   "metadata": {
    "colab": {
     "base_uri": "https://localhost:8080/"
    },
    "executionInfo": {
     "elapsed": 4065,
     "status": "ok",
     "timestamp": 1758645676857,
     "user": {
      "displayName": "Nizam Ud Din",
      "userId": "04775010721420996747"
     },
     "user_tz": -300
    },
    "id": "vl9IIV81gllF",
    "outputId": "96d8966c-5623-4253-a834-47a0d58c7cab"
   },
   "outputs": [
    {
     "name": "stdout",
     "output_type": "stream",
     "text": [
      "\u001b[1m1/1\u001b[0m \u001b[32m━━━━━━━━━━━━━━━━━━━━\u001b[0m\u001b[37m\u001b[0m \u001b[1m4s\u001b[0m 4s/step\n",
      "The image belongs to Apple___Cedar_apple_rust\n"
     ]
    }
   ],
   "source": [
    "path = 'test/test/AppleCedarRust1.JPG'\n",
    "prediction(path)"
   ]
  }
 ],
 "metadata": {
  "accelerator": "GPU",
  "colab": {
   "authorship_tag": "ABX9TyNbOZbxw10Fe/LDFUEVaM9S",
   "gpuType": "T4",
   "mount_file_id": "18zhT9OsItG0ZzOAgkaNx_47sgQxHFX7N",
   "provenance": []
  },
  "kernelspec": {
   "display_name": "Python 3",
   "name": "python3"
  },
  "language_info": {
   "codemirror_mode": {
    "name": "ipython",
    "version": 3
   },
   "file_extension": ".py",
   "mimetype": "text/x-python",
   "name": "python",
   "nbconvert_exporter": "python",
   "pygments_lexer": "ipython3",
   "version": "3.13.3"
  }
 },
 "nbformat": 4,
 "nbformat_minor": 0
}
